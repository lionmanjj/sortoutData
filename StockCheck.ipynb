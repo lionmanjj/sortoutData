import yfinance as yf
import pandas as pd
import matplotlib.pyplot as plt
import requests
from io import BytesIO
from datetime import datetime, timedelta

# 获取股票数据
#陽明[2609.TW]
#中興電[1513.TW]
stock = yf.Ticker("1513.TW")
hist = stock.history(period="5d")  # 获取最近5天的数据

# 处理KeyError的情况
current_price = stock.info.get('regularMarketPrice', 'N/A')
previous_volume = hist.iloc[-2]['Volume']  # 前一日的成交量

# 爬取三大法人买卖超数据
def fetch_institutional_data(stock_code, date):
    url = "https://www.twse.com.tw/fund/T86"
    params = {
        'response': 'json',
        'date': date,
        'selectType': 'ALLBUT0999',
        'stockNo': stock_code
    }
    response = requests.get(url, params=params)
    response.encoding = 'utf-8'  # 设置响应的编码为utf-8

    try:
        data = response.json()
    except ValueError as e:
        print(f"Error decoding JSON: {e}")
        print("Response content:", response.text)
        return pd.DataFrame()  # 返回一个空的 DataFrame

    records = data.get('data', [])
    columns = data.get('fields', [])

    if not records:
        print(f"No data found for date: {date}")

    # 将数据转换为 DataFrame
    df = pd.DataFrame(records, columns=columns)
    df = df[['日期', '外資及陸資買進股數(不含外資自營商)', '外資及陸資賣出股數(不含外資自營商)', '外資及陸資買賣超股數(不含外資自營商)',
             '投信買進股數', '投信賣出股數', '投信買賣超股數',
             '自營商買進股數(自行買賣)', '自營商賣出股數(自行買賣)', '自營商買賣超股數(自行買賣)']]
    df.columns = ['Date', 'Foreign Investors Buy', 'Foreign Investors Sell', 'Foreign Investors Net',
                  'Investment Trust Buy', 'Investment Trust Sell', 'Investment Trust Net',
                  'Dealer Buy', 'Dealer Sell', 'Dealer Net']
    return df

# 调用函数获取数据
today = datetime.today().strftime('%Y%m%d')
start_date = (datetime.today() - timedelta(days=30)).strftime('%Y%m%d')  # 假设抓取最近30天的数据

# 从最近30天的数据中逐天获取数据并合并
all_data = pd.DataFrame()
for single_date in pd.date_range(start_date, today):
    date_str = single_date.strftime('%Y%m%d')
    daily_data = fetch_institutional_data('2330', date_str)
    print(f"Fetched data for {date_str}, shape: {daily_data.shape}")
    all_data = pd.concat([all_data, daily_data], ignore_index=True)

print(all_data)
# 确认all_data包含数据
print(f"Combined data shape: {all_data.shape}")

# 去除时区信息
hist.index = hist.index.tz_localize(None)

# 创建一个新的Excel文件，使用XlsxWriter作为引擎
excel_file = 'stock_data.xlsx'
with pd.ExcelWriter(excel_file, engine='xlsxwriter') as writer:
    # 写入股票价格和成交量数据
    stock_df = pd.DataFrame({
    'Date': hist.index,  # 使用去除时区信息后的日期时间数据
    'Close': hist['Close'],
    'Volume': hist['Volume']
    })
    stock_df.to_excel(writer, sheet_name='Stock Data', index=False)

# 写入三大法人买卖超数据
    if not all_data.empty:
        all_data.to_excel(writer, sheet_name='Institutional Data', index=False)
        print("Institutional data written to Excel successfully.")
    else:
        print("No institutional data available to write to Excel.")

    # 生成图表并保存到Excel
    fig, ax = plt.subplots()
    hist['Close'].plot(ax=ax, title='Stock Price')
    plt.tight_layout()
    imgdata = BytesIO()
    fig.savefig(imgdata, format='png')
    imgdata.seek(0)  # 重置BytesIO对象的位置

    # 插入图像
    workbook = writer.book
    worksheet = writer.sheets['Stock Data']
    worksheet.insert_image('E5', 'stock_price.png', {'image_data': imgdata})

print(f"Data and chart saved to {excel_file}")
