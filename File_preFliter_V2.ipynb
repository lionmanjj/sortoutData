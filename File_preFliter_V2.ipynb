import os
import pandas as pd
import re
import math
from datetime import datetime

# 抓取數據的資料夾路徑
FilePath = '/py_env_data/23332000_13100/'
allFileList = os.listdir(FilePath)
filelist = [file for file in allFileList if os.path.isfile(os.path.join(FilePath, file)) and file.endswith('.csv')]

def parse_time(time_str):
    # 拆解資料中時間格式 --> 2024y1m11d_pm 11:00:21.486
    try:
        date_part, time_part = time_str.split('_')
        year_part, month_day_part = date_part.split('y')
        year = int(year_part)
        month_day = month_day_part.split('m')
        month = int(month_day[0])
        day = int(month_day[1].split('d')[0])
        time_parts = time_part.split(' ')
        period = time_parts[0]
        hour_minute_second = time_parts[1].split(':')
        hour = int(hour_minute_second[0])
        minute = int(hour_minute_second[1])
        second_parts = hour_minute_second[2].split('.')
        second = int(second_parts[0])
        microsecond = int(second_parts[1]) * 1000  # 將毫秒轉換為微秒

        if period == 'pm' and hour < 12:
            hour += 12
        elif period == 'am' and hour == 12:
            hour = 0

        dt = datetime(year, month, day, hour, minute, second, microsecond)
        return dt.timestamp()  # 返回時間戳的數值
    except Exception as e:
        print(f"Error parsing time: {time_str}, {e}")
        return None

def process_file(file_path):
    try:
        df = pd.read_csv(file_path)  # 資料匯入DataFrame
        df['Time'] = df['Time'].apply(parse_time)
        df['X'] = df['Time'].diff()
        df.iloc[0, 0] = 0
        start_idx = 1
        end_idx = 16
        df = df.drop(df.columns[start_idx:end_idx], axis=1)
        return df
    except Exception as e:
        print(f"Error processing file: {file_path}, {e}")
        return None

def calculate_values(df):
    # 假設Pin, PM, EFF的計算公式如下，根據實際情況修改
    df['Pin'] = math.sqrt(3) * df['Urms_AVG_A'] * df['Irms_AVG_A'] * abs(df['PF_AVG_A']) / 1000  # unit: kW
    df['PM'] = 2 * math.pi * (df['FREQ_W_A'] * 120 / 8) * df['Torque_A'] / 60000  # unit: kW
    df['EFF'] = df['PM'] / df['Pin'] * 100  # 假設EFF為PM與Pin的比值
    print(df)
    return df

def save_to_excel(df, df_name, func_match, Avg_point):
    try:
        # 計算Pin, PM, EFF並添加到DataFrame中
        df = calculate_values(df)
        sort_AVG = df.tail(Avg_point).mean()
        sort_MAX = df.max()
        sort_min = df.min()

        # 新增Pin, PM, EFF的計算值
        Pin_avg = df['Pin'].mean()
        PM_avg = df['PM'].mean()
        EFF_avg = df['EFF'].mean()

        # 將這些值添加到結果中
        sort_results = pd.concat([pd.Series({'Pin': Pin_avg, 'PM': PM_avg, 'EFF': EFF_avg}), sort_AVG, sort_MAX, sort_min], axis=1, keys=["Calculated", "AVG.", "MAX", "Min"])

        excel_file = f"{df_name}_results.xlsx"
        sheet_name_sortout = df_name

        if os.path.isfile(excel_file):
            path = os.path.join(os.getcwd(), excel_file)
            with pd.ExcelWriter(engine='openpyxl', path=path, mode='a', if_sheet_exists='replace') as writer:
                sort_results.to_excel(writer, sheet_name=sheet_name_sortout)
        else:
            with pd.ExcelWriter(excel_file) as writer:
                sort_results.to_excel(writer, sheet_name=sheet_name_sortout)

        new_folder = func_match.group()
        current_dir = os.getcwd()
        new_path = os.path.join(current_dir, new_folder)
        if not os.path.exists(new_path):
            os.makedirs(new_path)

        LastRAW_excel_file = os.path.join(new_folder, f'Last{Avg_point}_{df_name}.xlsx')
        sheet_name_RAW = df_name

        if os.path.isfile(LastRAW_excel_file):
            path = os.path.join(new_path, LastRAW_excel_file)
            with pd.ExcelWriter(engine='openpyxl', path=path, mode='a', if_sheet_exists='replace') as writer:
                df.tail(Avg_point).to_excel(writer, sheet_name=sheet_name_RAW)
        else:
            with pd.ExcelWriter(LastRAW_excel_file) as writer:
                df.tail(Avg_point).to_excel(writer, sheet_name=sheet_name_RAW)
    except Exception as e:
        print(f"Error saving to excel: {df_name}, {e}")

# 使用迴圈依次處理每個 .csv 檔案
all_dfs = {}
for i, file in enumerate(filelist, start=1):
    file_path = os.path.join(FilePath, file)
    df = process_file(file_path)
    if df is not None:
        file_name, _ = os.path.splitext(file)
        df_name = file_name
        all_dfs[df_name] = df

# 迴圈處理所有 DataFrame
for df_name, df in all_dfs.items():
    if isinstance(df, pd.DataFrame):
        Time_inver = df['X'].mean()
        name_parts = df_name.split('_')
        if len(name_parts) >= 5:
            func_match = re.search(r'\w+', name_parts[0])
            speed_match = re.search(r'\d+', name_parts[2])
            current_match = re.search(r'\d+', name_parts[3])
            if func_match.group() == 'Continuous':
                tar_speed = int(speed_match.group()) * 8 / 120
                tar_current = int(current_match.group())
                Avg_point = 60
            elif func_match.group() == 'Peak':
                tar_speed = int(speed_match.group()) * 8 / 120
                tar_current = int(current_match.group())
                Avg_point = 2
            elif func_match.group() == 'SCC':
                tar_speed = 4000 * 0.98
                tar_current = int(current_match.group())
                Avg_point = 5
        else:
            print('Your length of file name does not match the program requirements!')
            continue
        #誤差值抓取2%
        if func_match.group() == 'SCC':
            condition_1 = abs(df['Speed_A']) >= tar_speed * 0.98
            condition_2 = df['Irms_AVG_A'] >= tar_current * 0.98
        else:
            condition_1 = abs(df['FREQ_U_A']) >= tar_speed * 0.98
            condition_2 = df['Irms_AVG_A'] >= tar_current * 0.98

        combined_condition = condition_1 & condition_2
        df = df.loc[combined_condition]
        df = df.astype(float)

        # 計算Pin, PM, EFF並添加到DataFrame中
        # df = calculate_values(df)

        save_to_excel(df, df_name, func_match, Avg_point)
